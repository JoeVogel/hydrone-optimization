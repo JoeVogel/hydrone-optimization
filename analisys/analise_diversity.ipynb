{
 "cells": [
  {
   "cell_type": "code",
   "execution_count": 1,
   "metadata": {},
   "outputs": [
    {
     "name": "stderr",
     "output_type": "stream",
     "text": [
      "C:\\Users\\Joe Vogel\\AppData\\Local\\Temp\\ipykernel_1444\\2033994732.py:2: DeprecationWarning: \n",
      "Pyarrow will become a required dependency of pandas in the next major release of pandas (pandas 3.0),\n",
      "(to allow more performant data types, such as the Arrow string type, and better interoperability with other libraries)\n",
      "but was not found to be installed on your system.\n",
      "If this would cause problems for you,\n",
      "please provide us feedback at https://github.com/pandas-dev/pandas/issues/54466\n",
      "        \n",
      "  import pandas as pd\n"
     ]
    }
   ],
   "source": [
    "import numpy as np\n",
    "import pandas as pd\n",
    "\n",
    "import matplotlib.pyplot as plt\n",
    "import matplotlib.ticker as ticker"
   ]
  },
  {
   "cell_type": "markdown",
   "metadata": {},
   "source": [
    "## Import data"
   ]
  },
  {
   "cell_type": "code",
   "execution_count": 38,
   "metadata": {},
   "outputs": [],
   "source": [
    "\n",
    "csv_file = '../results/CMA_ES-07_03-21_44/7_0/all_results.csv'\n",
    "\n",
    "df = pd.read_csv(csv_file)\n",
    "\n",
    "# Remove colunas desnecessárias\n",
    "df = df.drop(['Strength', 'Strength_Min', 'Cavitation', 'Cavitation_Max', 'Tip_Velocity', 'Tip_Velocity_Max'], axis=1)\n",
    "\n",
    "# Formata os dados\n",
    "df_7 = df.astype({\"P_B\": float, \"Valid\": bool, \"Run\": int, \"Generation\": int})\n"
   ]
  },
  {
   "cell_type": "code",
   "execution_count": 39,
   "metadata": {},
   "outputs": [
    {
     "data": {
      "text/html": [
       "<div>\n",
       "<style scoped>\n",
       "    .dataframe tbody tr th:only-of-type {\n",
       "        vertical-align: middle;\n",
       "    }\n",
       "\n",
       "    .dataframe tbody tr th {\n",
       "        vertical-align: top;\n",
       "    }\n",
       "\n",
       "    .dataframe thead th {\n",
       "        text-align: right;\n",
       "    }\n",
       "</style>\n",
       "<table border=\"1\" class=\"dataframe\">\n",
       "  <thead>\n",
       "    <tr style=\"text-align: right;\">\n",
       "      <th></th>\n",
       "      <th>V_S</th>\n",
       "      <th>Z</th>\n",
       "      <th>D</th>\n",
       "      <th>AEdAO</th>\n",
       "      <th>PdD</th>\n",
       "      <th>P_B</th>\n",
       "      <th>Generation</th>\n",
       "      <th>Run</th>\n",
       "      <th>Valid</th>\n",
       "    </tr>\n",
       "  </thead>\n",
       "  <tbody>\n",
       "    <tr>\n",
       "      <th>0</th>\n",
       "      <td>7.0</td>\n",
       "      <td>2</td>\n",
       "      <td>0.774471</td>\n",
       "      <td>0.913741</td>\n",
       "      <td>0.848490</td>\n",
       "      <td>96.724000</td>\n",
       "      <td>1</td>\n",
       "      <td>0</td>\n",
       "      <td>True</td>\n",
       "    </tr>\n",
       "    <tr>\n",
       "      <th>1</th>\n",
       "      <td>7.0</td>\n",
       "      <td>2</td>\n",
       "      <td>0.635491</td>\n",
       "      <td>0.749233</td>\n",
       "      <td>0.820603</td>\n",
       "      <td>113.952865</td>\n",
       "      <td>1</td>\n",
       "      <td>0</td>\n",
       "      <td>False</td>\n",
       "    </tr>\n",
       "    <tr>\n",
       "      <th>2</th>\n",
       "      <td>7.0</td>\n",
       "      <td>2</td>\n",
       "      <td>0.774520</td>\n",
       "      <td>0.809806</td>\n",
       "      <td>0.777864</td>\n",
       "      <td>96.258436</td>\n",
       "      <td>1</td>\n",
       "      <td>0</td>\n",
       "      <td>True</td>\n",
       "    </tr>\n",
       "    <tr>\n",
       "      <th>3</th>\n",
       "      <td>7.0</td>\n",
       "      <td>2</td>\n",
       "      <td>0.719480</td>\n",
       "      <td>0.975053</td>\n",
       "      <td>0.867450</td>\n",
       "      <td>101.904337</td>\n",
       "      <td>1</td>\n",
       "      <td>0</td>\n",
       "      <td>True</td>\n",
       "    </tr>\n",
       "    <tr>\n",
       "      <th>4</th>\n",
       "      <td>7.0</td>\n",
       "      <td>2</td>\n",
       "      <td>0.795300</td>\n",
       "      <td>0.875687</td>\n",
       "      <td>0.929285</td>\n",
       "      <td>95.609921</td>\n",
       "      <td>1</td>\n",
       "      <td>0</td>\n",
       "      <td>True</td>\n",
       "    </tr>\n",
       "    <tr>\n",
       "      <th>...</th>\n",
       "      <td>...</td>\n",
       "      <td>...</td>\n",
       "      <td>...</td>\n",
       "      <td>...</td>\n",
       "      <td>...</td>\n",
       "      <td>...</td>\n",
       "      <td>...</td>\n",
       "      <td>...</td>\n",
       "      <td>...</td>\n",
       "    </tr>\n",
       "    <tr>\n",
       "      <th>115785</th>\n",
       "      <td>7.0</td>\n",
       "      <td>7</td>\n",
       "      <td>0.800000</td>\n",
       "      <td>0.715903</td>\n",
       "      <td>0.769828</td>\n",
       "      <td>82.944238</td>\n",
       "      <td>264</td>\n",
       "      <td>0</td>\n",
       "      <td>True</td>\n",
       "    </tr>\n",
       "    <tr>\n",
       "      <th>115786</th>\n",
       "      <td>7.0</td>\n",
       "      <td>7</td>\n",
       "      <td>0.800000</td>\n",
       "      <td>0.715903</td>\n",
       "      <td>0.769828</td>\n",
       "      <td>82.944238</td>\n",
       "      <td>264</td>\n",
       "      <td>0</td>\n",
       "      <td>True</td>\n",
       "    </tr>\n",
       "    <tr>\n",
       "      <th>115787</th>\n",
       "      <td>7.0</td>\n",
       "      <td>7</td>\n",
       "      <td>0.800000</td>\n",
       "      <td>0.715903</td>\n",
       "      <td>0.769828</td>\n",
       "      <td>82.944238</td>\n",
       "      <td>264</td>\n",
       "      <td>0</td>\n",
       "      <td>True</td>\n",
       "    </tr>\n",
       "    <tr>\n",
       "      <th>115788</th>\n",
       "      <td>7.0</td>\n",
       "      <td>7</td>\n",
       "      <td>0.800000</td>\n",
       "      <td>0.715903</td>\n",
       "      <td>0.769828</td>\n",
       "      <td>82.944238</td>\n",
       "      <td>264</td>\n",
       "      <td>0</td>\n",
       "      <td>True</td>\n",
       "    </tr>\n",
       "    <tr>\n",
       "      <th>115789</th>\n",
       "      <td>7.0</td>\n",
       "      <td>7</td>\n",
       "      <td>0.800000</td>\n",
       "      <td>0.715903</td>\n",
       "      <td>0.769828</td>\n",
       "      <td>82.944238</td>\n",
       "      <td>264</td>\n",
       "      <td>0</td>\n",
       "      <td>True</td>\n",
       "    </tr>\n",
       "  </tbody>\n",
       "</table>\n",
       "<p>12400 rows × 9 columns</p>\n",
       "</div>"
      ],
      "text/plain": [
       "        V_S  Z         D     AEdAO       PdD         P_B  Generation  Run  \\\n",
       "0       7.0  2  0.774471  0.913741  0.848490   96.724000           1    0   \n",
       "1       7.0  2  0.635491  0.749233  0.820603  113.952865           1    0   \n",
       "2       7.0  2  0.774520  0.809806  0.777864   96.258436           1    0   \n",
       "3       7.0  2  0.719480  0.975053  0.867450  101.904337           1    0   \n",
       "4       7.0  2  0.795300  0.875687  0.929285   95.609921           1    0   \n",
       "...     ... ..       ...       ...       ...         ...         ...  ...   \n",
       "115785  7.0  7  0.800000  0.715903  0.769828   82.944238         264    0   \n",
       "115786  7.0  7  0.800000  0.715903  0.769828   82.944238         264    0   \n",
       "115787  7.0  7  0.800000  0.715903  0.769828   82.944238         264    0   \n",
       "115788  7.0  7  0.800000  0.715903  0.769828   82.944238         264    0   \n",
       "115789  7.0  7  0.800000  0.715903  0.769828   82.944238         264    0   \n",
       "\n",
       "        Valid  \n",
       "0        True  \n",
       "1       False  \n",
       "2        True  \n",
       "3        True  \n",
       "4        True  \n",
       "...       ...  \n",
       "115785   True  \n",
       "115786   True  \n",
       "115787   True  \n",
       "115788   True  \n",
       "115789   True  \n",
       "\n",
       "[12400 rows x 9 columns]"
      ]
     },
     "execution_count": 39,
     "metadata": {},
     "output_type": "execute_result"
    }
   ],
   "source": [
    "df_7 = df_7[df_7['Run'] == 0]\n",
    "\n",
    "df_7"
   ]
  },
  {
   "cell_type": "markdown",
   "metadata": {},
   "source": [
    "## Contagem de diferentes"
   ]
  },
  {
   "cell_type": "code",
   "execution_count": 48,
   "metadata": {},
   "outputs": [],
   "source": [
    "percentage = 0.005"
   ]
  },
  {
   "cell_type": "code",
   "execution_count": 41,
   "metadata": {},
   "outputs": [],
   "source": [
    "# Função para contar valores de P_B que diferem dos demais por mais de 1%\n",
    "def count_different_by_percent(group):\n",
    "    count = 0\n",
    "    for i, value in enumerate(group['P_B']):\n",
    "        differences = abs(group['P_B'] - value) / value > percentage\n",
    "        if differences.sum() > 1:  # Ignora a própria comparação\n",
    "            count += 1\n",
    "    return count"
   ]
  },
  {
   "cell_type": "code",
   "execution_count": 49,
   "metadata": {},
   "outputs": [
    {
     "name": "stdout",
     "output_type": "stream",
     "text": [
      "     Generation  Count_Different\n",
      "0             1               30\n",
      "1             2               30\n",
      "2             3               30\n",
      "3             4               30\n",
      "4             5               30\n",
      "..          ...              ...\n",
      "548         549                0\n",
      "549         550                0\n",
      "550         551                0\n",
      "551         552                0\n",
      "552         553                0\n",
      "\n",
      "[553 rows x 2 columns]\n"
     ]
    },
    {
     "name": "stderr",
     "output_type": "stream",
     "text": [
      "C:\\Users\\Joe Vogel\\AppData\\Local\\Temp\\ipykernel_1444\\1914451251.py:2: DeprecationWarning: DataFrameGroupBy.apply operated on the grouping columns. This behavior is deprecated, and in a future version of pandas the grouping columns will be excluded from the operation. Either pass `include_groups=False` to exclude the groupings or explicitly select the grouping columns after groupby to silence this warning.\n",
      "  result = df_7.groupby('Generation', group_keys=False).apply(count_different_by_percent).reset_index(name='Count_Different')\n"
     ]
    }
   ],
   "source": [
    "# Agrupar por 'Generation' e aplicar a função de contagem\n",
    "result = df_7.groupby('Generation', group_keys=False).apply(count_different_by_percent).reset_index(name='Count_Different')\n",
    "print(result)"
   ]
  },
  {
   "cell_type": "markdown",
   "metadata": {},
   "source": [
    "## Gera o gráfico"
   ]
  },
  {
   "cell_type": "code",
   "execution_count": 51,
   "metadata": {},
   "outputs": [
    {
     "data": {
      "image/png": "[encoded data removed]",
      "text/plain": [
       "<Figure size 1000x600 with 1 Axes>"
      ]
     },
     "metadata": {},
     "output_type": "display_data"
    }
   ],
   "source": [
    "# Gerar gráfico de linha\n",
    "plt.figure(figsize=(10, 6))\n",
    "plt.plot(result['Generation'], result['Count_Different'], linestyle='-', color='b')\n",
    "\n",
    "# Definir o título e os rótulos dos eixos\n",
    "plt.title('Contagem de P_B Diferente por Geração')\n",
    "plt.xlabel('Geração')\n",
    "plt.ylabel(f'Contagem de P_B Diferente (>{percentage*100}%)')\n",
    "\n",
    "# Mostrar o gráfico\n",
    "plt.grid(True)\n",
    "plt.show()"
   ]
  }
 ],
 "metadata": {
  "kernelspec": {
   "display_name": ".venv",
   "language": "python",
   "name": "python3"
  },
  "language_info": {
   "codemirror_mode": {
    "name": "ipython",
    "version": 3
   },
   "file_extension": ".py",
   "mimetype": "text/x-python",
   "name": "python",
   "nbconvert_exporter": "python",
   "pygments_lexer": "ipython3",
   "version": "3.11.2"
  }
 },
 "nbformat": 4,
 "nbformat_minor": 2
}
