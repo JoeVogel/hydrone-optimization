{
 "cells": [
  {
   "cell_type": "code",
   "execution_count": null,
   "metadata": {},
   "outputs": [
    {
     "name": "stderr",
     "output_type": "stream",
     "text": [
      "/tmp/ipykernel_143937/455046538.py:2: DeprecationWarning: \n",
      "Pyarrow will become a required dependency of pandas in the next major release of pandas (pandas 3.0),\n",
      "(to allow more performant data types, such as the Arrow string type, and better interoperability with other libraries)\n",
      "but was not found to be installed on your system.\n",
      "If this would cause problems for you,\n",
      "please provide us feedback at https://github.com/pandas-dev/pandas/issues/54466\n",
      "        \n",
      "  import pandas as pd\n"
     ]
    }
   ],
   "source": [
    "import os\n",
    "import pandas as pd\n",
    "\n",
    "import matplotlib.pyplot as plt"
   ]
  },
  {
   "cell_type": "code",
   "execution_count": null,
   "metadata": {},
   "outputs": [],
   "source": [
    "base_path = '../'"
   ]
  },
  {
   "cell_type": "code",
   "execution_count": null,
   "metadata": {},
   "outputs": [],
   "source": [
    "# Load performance data\n",
    "performance1_path = os.path.join(base_path, 'volume1_exp.csv')\n",
    "performance2_path = os.path.join(base_path, 'volume2_exp.csv')\n",
    "performance3_path = os.path.join(base_path, 'volume3_exp.csv')\n",
    "\n",
    "performance1_df = pd.read_csv(performance1_path)\n",
    "performance2_df = pd.read_csv(performance2_path)\n",
    "performance3_df = pd.read_csv(performance3_path)\n",
    "\n",
    "performance_df = pd.concat([performance1_df, performance2_df, performance3_df], ignore_index=True)\n",
    "\n",
    "performance_df.to_csv('../uiuc_data.csv', index=False)"
   ]
  },
  {
   "cell_type": "code",
   "execution_count": 73,
   "metadata": {},
   "outputs": [
    {
     "data": {
      "text/plain": [
       "PropName      object\n",
       "BladeName     object\n",
       "Family        object\n",
       "B              int64\n",
       "D            float64\n",
       "P            float64\n",
       "J            float64\n",
       "N            float64\n",
       "CT           float64\n",
       "CP           float64\n",
       "eta          float64\n",
       "dtype: object"
      ]
     },
     "execution_count": 73,
     "metadata": {},
     "output_type": "execute_result"
    }
   ],
   "source": [
    "performance_df.dtypes"
   ]
  },
  {
   "cell_type": "markdown",
   "metadata": {},
   "source": [
    "## Propellers"
   ]
  },
  {
   "cell_type": "code",
   "execution_count": null,
   "metadata": {},
   "outputs": [],
   "source": [
    "print(performance_df['PropName'].value_counts())\n",
    "print(performance_df['PropName'].unique())"
   ]
  },
  {
   "cell_type": "markdown",
   "metadata": {},
   "source": [
    "## Family"
   ]
  },
  {
   "cell_type": "code",
   "execution_count": 61,
   "metadata": {},
   "outputs": [
    {
     "name": "stdout",
     "output_type": "stream",
     "text": [
      "Unique Families\n",
      "['ance' 'apc29ff' 'apccf' 'apce' 'apcsf' 'apcsp' 'grcp' 'grcsp' 'grsn'\n",
      " 'gwsdd' 'gwssf' 'kavfk' 'kyosho' 'mae' 'magf' 'mas' 'ma' 'rusp' 'zin'\n",
      " 'apcff' 'da4002' 'da4022' 'da4052' 'ef' 'kpf' 'mit' 'mi' 'pl' 'vp'\n",
      " 'nr640' 'union' 'ancf']\n"
     ]
    }
   ],
   "source": [
    "print(\"Unique Families\")\n",
    "print(performance_df['Family'].unique())"
   ]
  },
  {
   "cell_type": "markdown",
   "metadata": {},
   "source": [
    "## Models"
   ]
  },
  {
   "cell_type": "code",
   "execution_count": 62,
   "metadata": {},
   "outputs": [
    {
     "name": "stdout",
     "output_type": "stream",
     "text": [
      "Unique Propellers\n",
      "240\n"
     ]
    }
   ],
   "source": [
    "print(\"Unique Propellers\")\n",
    "print(len(performance_df['PropName'].unique()))"
   ]
  },
  {
   "cell_type": "markdown",
   "metadata": {},
   "source": [
    "## Number of blades\n"
   ]
  },
  {
   "cell_type": "code",
   "execution_count": 63,
   "metadata": {},
   "outputs": [
    {
     "name": "stdout",
     "output_type": "stream",
     "text": [
      "Unique number of blades\n",
      "[2 3 4]\n"
     ]
    }
   ],
   "source": [
    "print(\"Unique number of blades\")\n",
    "print(performance_df['B'].unique())"
   ]
  },
  {
   "cell_type": "code",
   "execution_count": 67,
   "metadata": {},
   "outputs": [
    {
     "name": "stdout",
     "output_type": "stream",
     "text": [
      "Contagem de hélices por número de pás\n",
      "B\n",
      "2    226\n",
      "3      7\n",
      "4      7\n",
      "Name: count, dtype: int64\n",
      "\n",
      "Contagem de hélices por diametro (polegadas)\n",
      "D\n",
      "1.200000      1\n",
      "1.300000      1\n",
      "2.244094      1\n",
      "2.500000      2\n",
      "3.000000      2\n",
      "3.200000      1\n",
      "3.779528      1\n",
      "3.937008      1\n",
      "4.000000      3\n",
      "4.200000      2\n",
      "4.300000      1\n",
      "4.500000      2\n",
      "5.000000     22\n",
      "5.118110      1\n",
      "5.511811      1\n",
      "7.000000      3\n",
      "7.400000      1\n",
      "7.800000      2\n",
      "8.000000     15\n",
      "8.500000      2\n",
      "9.000000     65\n",
      "10.000000    34\n",
      "11.000000    50\n",
      "12.000000     6\n",
      "12.500000     3\n",
      "13.000000     4\n",
      "14.000000     6\n",
      "15.000000     3\n",
      "16.000000     2\n",
      "17.000000     1\n",
      "19.000000     1\n",
      "Name: count, dtype: int64\n"
     ]
    }
   ],
   "source": [
    "unique_blades = performance_df.drop_duplicates(subset=\"PropName\")\n",
    "\n",
    "# Contar o número de hélices por número de pás (coluna 'B')\n",
    "count_by_blades = unique_blades[\"B\"].value_counts().sort_index()\n",
    "\n",
    "print('Contagem de hélices por número de pás')\n",
    "print(count_by_blades)\n",
    "\n",
    "# Contar o número de hélices por diametro (coluna 'D')\n",
    "count_by_diameter = unique_blades[\"D\"].value_counts().sort_index()\n",
    "\n",
    "print()\n",
    "\n",
    "print('Contagem de hélices por diametro (polegadas)')\n",
    "print(count_by_diameter)"
   ]
  },
  {
   "cell_type": "markdown",
   "metadata": {},
   "source": [
    "## Plots"
   ]
  },
  {
   "cell_type": "code",
   "execution_count": 78,
   "metadata": {},
   "outputs": [
    {
     "data": {
      "image/png": "[encoded data removed]",
      "text/plain": [
       "<Figure size 640x480 with 1 Axes>"
      ]
     },
     "metadata": {},
     "output_type": "display_data"
    }
   ],
   "source": [
    "plot_data = performance_df[performance_df['PropName'] == 'ance 8.5x6.0 - 2']\n",
    "plot_data = plot_data[plot_data['N'] == 4000]\n",
    "\n",
    "x_points = plot_data['J']\n",
    "y_points = plot_data['eta']\n",
    "\n",
    "plt.plot(x_points, y_points)\n",
    "plt.show()"
   ]
  },
  {
   "cell_type": "code",
   "execution_count": null,
   "metadata": {},
   "outputs": [],
   "source": []
  }
 ],
 "metadata": {
  "kernelspec": {
   "display_name": ".venv",
   "language": "python",
   "name": "python3"
  },
  "language_info": {
   "codemirror_mode": {
    "name": "ipython",
    "version": 3
   },
   "file_extension": ".py",
   "mimetype": "text/x-python",
   "name": "python",
   "nbconvert_exporter": "python",
   "pygments_lexer": "ipython3",
   "version": "3.10.12"
  }
 },
 "nbformat": 4,
 "nbformat_minor": 2
}
